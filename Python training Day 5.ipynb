{
 "cells": [
  {
   "cell_type": "markdown",
   "metadata": {},
   "source": [
    "# Day 5 of python training\n",
    "- Agenda : Errors, Exceptions"
   ]
  },
  {
   "cell_type": "code",
   "execution_count": 1,
   "metadata": {},
   "outputs": [
    {
     "ename": "NameError",
     "evalue": "name 'x' is not defined",
     "output_type": "error",
     "traceback": [
      "\u001b[1;31m---------------------------------------------------------------------------\u001b[0m",
      "\u001b[1;31mNameError\u001b[0m                                 Traceback (most recent call last)",
      "\u001b[1;32m<ipython-input-1-6fcf9dfbd479>\u001b[0m in \u001b[0;36m<module>\u001b[1;34m\u001b[0m\n\u001b[1;32m----> 1\u001b[1;33m \u001b[0mx\u001b[0m\u001b[1;33m\u001b[0m\u001b[1;33m\u001b[0m\u001b[0m\n\u001b[0m",
      "\u001b[1;31mNameError\u001b[0m: name 'x' is not defined"
     ]
    }
   ],
   "source": [
    "# 1. Name error : when you try to access something you have not defined yet, undefined variable\n",
    "x"
   ]
  },
  {
   "cell_type": "code",
   "execution_count": 2,
   "metadata": {},
   "outputs": [
    {
     "name": "stdout",
     "output_type": "stream",
     "text": [
      "enter a numbera\n"
     ]
    },
    {
     "ename": "ValueError",
     "evalue": "invalid literal for int() with base 10: 'a'",
     "output_type": "error",
     "traceback": [
      "\u001b[1;31m---------------------------------------------------------------------------\u001b[0m",
      "\u001b[1;31mValueError\u001b[0m                                Traceback (most recent call last)",
      "\u001b[1;32m<ipython-input-2-69c3a831f5be>\u001b[0m in \u001b[0;36m<module>\u001b[1;34m\u001b[0m\n\u001b[0;32m      1\u001b[0m \u001b[1;31m#\u001b[0m\u001b[1;33m\u001b[0m\u001b[1;33m\u001b[0m\u001b[1;33m\u001b[0m\u001b[0m\n\u001b[0;32m      2\u001b[0m \u001b[1;33m\u001b[0m\u001b[0m\n\u001b[1;32m----> 3\u001b[1;33m \u001b[0mentry1\u001b[0m \u001b[1;33m=\u001b[0m \u001b[0mint\u001b[0m\u001b[1;33m(\u001b[0m\u001b[0minput\u001b[0m\u001b[1;33m(\u001b[0m\u001b[1;34m\"enter a number\"\u001b[0m\u001b[1;33m)\u001b[0m\u001b[1;33m)\u001b[0m \u001b[1;31m# and you are giving anything but integer\u001b[0m\u001b[1;33m\u001b[0m\u001b[1;33m\u001b[0m\u001b[0m\n\u001b[0m",
      "\u001b[1;31mValueError\u001b[0m: invalid literal for int() with base 10: 'a'"
     ]
    }
   ],
   "source": [
    "# 2. Value error : when we are trying to pass wrong type of data\n",
    "\n",
    "entry1 = int(input(\"enter a number\")) # and you are giving anything but integer in input"
   ]
  },
  {
   "cell_type": "code",
   "execution_count": 3,
   "metadata": {},
   "outputs": [
    {
     "ename": "TypeError",
     "evalue": "can't multiply sequence by non-int of type 'str'",
     "output_type": "error",
     "traceback": [
      "\u001b[1;31m---------------------------------------------------------------------------\u001b[0m",
      "\u001b[1;31mTypeError\u001b[0m                                 Traceback (most recent call last)",
      "\u001b[1;32m<ipython-input-3-d0823546bdc5>\u001b[0m in \u001b[0;36m<module>\u001b[1;34m\u001b[0m\n\u001b[0;32m      1\u001b[0m \u001b[1;31m# 3.\u001b[0m\u001b[1;33m\u001b[0m\u001b[1;33m\u001b[0m\u001b[1;33m\u001b[0m\u001b[0m\n\u001b[0;32m      2\u001b[0m \u001b[1;33m\u001b[0m\u001b[0m\n\u001b[1;32m----> 3\u001b[1;33m \u001b[1;34m\"abc\"\u001b[0m\u001b[1;33m*\u001b[0m\u001b[1;34m\"qwe\"\u001b[0m\u001b[1;33m\u001b[0m\u001b[1;33m\u001b[0m\u001b[0m\n\u001b[0m",
      "\u001b[1;31mTypeError\u001b[0m: can't multiply sequence by non-int of type 'str'"
     ]
    }
   ],
   "source": [
    "# 3. Type error : when you try to do wrong 'operation'\n",
    "\n",
    "\"abc\"*\"qwe\" # i.e. multiplication of strings"
   ]
  },
  {
   "cell_type": "code",
   "execution_count": 4,
   "metadata": {},
   "outputs": [
    {
     "ename": "AttributeError",
     "evalue": "'tuple' object has no attribute 'append'",
     "output_type": "error",
     "traceback": [
      "\u001b[1;31m---------------------------------------------------------------------------\u001b[0m",
      "\u001b[1;31mAttributeError\u001b[0m                            Traceback (most recent call last)",
      "\u001b[1;32m<ipython-input-4-493f8a10029f>\u001b[0m in \u001b[0;36m<module>\u001b[1;34m\u001b[0m\n\u001b[0;32m      2\u001b[0m \u001b[1;33m\u001b[0m\u001b[0m\n\u001b[0;32m      3\u001b[0m \u001b[0mr\u001b[0m \u001b[1;33m=\u001b[0m \u001b[1;33m(\u001b[0m\u001b[1;36m1\u001b[0m\u001b[1;33m,\u001b[0m\u001b[1;36m2\u001b[0m\u001b[1;33m,\u001b[0m\u001b[1;36m3\u001b[0m\u001b[1;33m)\u001b[0m\u001b[1;33m\u001b[0m\u001b[1;33m\u001b[0m\u001b[0m\n\u001b[1;32m----> 4\u001b[1;33m \u001b[0mr\u001b[0m\u001b[1;33m.\u001b[0m\u001b[0mappend\u001b[0m\u001b[1;33m(\u001b[0m\u001b[1;34m\"Chintan\"\u001b[0m\u001b[1;33m)\u001b[0m\u001b[1;33m\u001b[0m\u001b[1;33m\u001b[0m\u001b[0m\n\u001b[0m",
      "\u001b[1;31mAttributeError\u001b[0m: 'tuple' object has no attribute 'append'"
     ]
    }
   ],
   "source": [
    "# 4. Attribute error : when you try to apply wrong 'method ''\n",
    "\n",
    "r = (1,2,3)\n",
    "r.append(\"Chintan\")   # trying to append sting into integer tupple"
   ]
  },
  {
   "cell_type": "code",
   "execution_count": 5,
   "metadata": {},
   "outputs": [
    {
     "ename": "ZeroDivisionError",
     "evalue": "division by zero",
     "output_type": "error",
     "traceback": [
      "\u001b[1;31m---------------------------------------------------------------------------\u001b[0m",
      "\u001b[1;31mZeroDivisionError\u001b[0m                         Traceback (most recent call last)",
      "\u001b[1;32m<ipython-input-5-415acafd5516>\u001b[0m in \u001b[0;36m<module>\u001b[1;34m\u001b[0m\n\u001b[0;32m      1\u001b[0m \u001b[1;31m# 5.\u001b[0m\u001b[1;33m\u001b[0m\u001b[1;33m\u001b[0m\u001b[1;33m\u001b[0m\u001b[0m\n\u001b[0;32m      2\u001b[0m \u001b[1;33m\u001b[0m\u001b[0m\n\u001b[1;32m----> 3\u001b[1;33m \u001b[1;36m3\u001b[0m\u001b[1;33m/\u001b[0m\u001b[1;36m0\u001b[0m\u001b[1;33m\u001b[0m\u001b[1;33m\u001b[0m\u001b[0m\n\u001b[0m",
      "\u001b[1;31mZeroDivisionError\u001b[0m: division by zero"
     ]
    }
   ],
   "source": [
    "# 5. Zero Dvision Error : error due to division by zero\n",
    "\n",
    "3/0"
   ]
  },
  {
   "cell_type": "markdown",
   "metadata": {},
   "source": [
    "- there are many type of errors\n",
    "- how to handle them\n",
    "- 'try','except','finally'"
   ]
  },
  {
   "cell_type": "code",
   "execution_count": 10,
   "metadata": {},
   "outputs": [
    {
     "name": "stdout",
     "output_type": "stream",
     "text": [
      "Number1 :1\n",
      "Number2 :0\n",
      "1\n",
      "Wrong Operation\n",
      "try except is finished\n"
     ]
    }
   ],
   "source": [
    "x = int(input(\"Number1 :\"))\n",
    "y = int(input(\"Number2 :\"))\n",
    "    \n",
    "try:\n",
    "    print(x+y)\n",
    "    print(x/y)\n",
    "    print(x-y)\n",
    "    print(x*y)\n",
    "    \n",
    "except ZeroDivisionError:\n",
    "    print(\"Wrong Operation\")\n",
    "    \n",
    "finally:\n",
    "    print(\"try except is finished\")"
   ]
  },
  {
   "cell_type": "code",
   "execution_count": 13,
   "metadata": {},
   "outputs": [
    {
     "name": "stdout",
     "output_type": "stream",
     "text": [
      "String 1 :a\n",
      "String 2 :b\n",
      "ab\n",
      "Type error : cant do multiplication of strings\n",
      "try except is finished\n"
     ]
    }
   ],
   "source": [
    "x = input(\"String 1 :\")\n",
    "y = input(\"String 2 :\")\n",
    "    \n",
    "try:\n",
    "    print(x+y)\n",
    "    print(x*y)\n",
    "    \n",
    "except TypeError:\n",
    "    print(\"Type error : cant do multiplication of strings\")\n",
    "    \n",
    "finally:\n",
    "    print(\"try except is finished\")"
   ]
  },
  {
   "cell_type": "code",
   "execution_count": 21,
   "metadata": {},
   "outputs": [
    {
     "name": "stdout",
     "output_type": "stream",
     "text": [
      "Number1 :1\n",
      "Number2 :0\n",
      "Caught this error :ZeroDivisionError('division by zero')\n"
     ]
    }
   ],
   "source": [
    "# When yo ure not certain the type of error you will encounter then how to identify the error ??\n",
    "# check the code below how !!! :)\n",
    "\n",
    "try:\n",
    "    x = int(input(\"Number1 :\"))\n",
    "    y = int(input(\"Number2 :\"))\n",
    "    print(x/y)\n",
    "\n",
    "except Exception as e:\n",
    "    print(\"Caught this error :\" + repr(e))"
   ]
  },
  {
   "cell_type": "code",
   "execution_count": 22,
   "metadata": {},
   "outputs": [
    {
     "name": "stdout",
     "output_type": "stream",
     "text": [
      "Number1 :1\n",
      "Number2 :0\n",
      "Caught this error :ZeroDivisionError('division by zero')\n",
      "Number1 :2\n",
      "Number2 :0\n",
      "Caught this error :ZeroDivisionError('division by zero')\n",
      "Number1 :2\n",
      "Number2 :3\n",
      "0.6666666666666666\n"
     ]
    }
   ],
   "source": [
    "# When yo ure not certain the type of error you will encounter then how to identify the error ??\n",
    "# check the code below how !!! :)\n",
    "\n",
    "def funct():\n",
    "    try:\n",
    "        x = int(input(\"Number1 :\"))\n",
    "        y = int(input(\"Number2 :\"))\n",
    "        print(x/y)\n",
    "\n",
    "    except Exception as e:\n",
    "        print(\"Caught this error :\" + repr(e))\n",
    "        funct()\n",
    "\n",
    "funct()"
   ]
  },
  {
   "cell_type": "code",
   "execution_count": 23,
   "metadata": {},
   "outputs": [
    {
     "name": "stdout",
     "output_type": "stream",
     "text": [
      "Number1 :1\n",
      "Number2 :0\n",
      "sum is: 1\n",
      "Division by zero ? Seriously ??\n",
      "Number1 :a\n",
      "Please give right inputs\n",
      "Number1 :2\n",
      "Number2 :4\n",
      "sum is: 6\n",
      "/ is: 0.5\n",
      "* is: 8\n"
     ]
    }
   ],
   "source": [
    "def callme():\n",
    "    try:\n",
    "        x = int(input(\"Number1 :\"))\n",
    "        y = int(input(\"Number2 :\"))\n",
    "        print(\"sum is:\", x+y)\n",
    "        print(\"/ is:\", x/y)\n",
    "        print(\"* is:\", x*y)\n",
    "\n",
    "    except Exception as e:\n",
    "        if type(e) == ZeroDivisionError:\n",
    "            print(\"Division by zero ? Seriously ??\")\n",
    "            callme()\n",
    "        elif type(e) == ValueError:\n",
    "            print(\"Please give right inputs\")\n",
    "            callme()\n",
    "\n",
    "callme()"
   ]
  },
  {
   "cell_type": "code",
   "execution_count": 28,
   "metadata": {},
   "outputs": [
    {
     "ename": "IndentationError",
     "evalue": "unexpected indent (<ipython-input-28-888e1de46355>, line 2)",
     "output_type": "error",
     "traceback": [
      "\u001b[1;36m  File \u001b[1;32m\"<ipython-input-28-888e1de46355>\"\u001b[1;36m, line \u001b[1;32m2\u001b[0m\n\u001b[1;33m    a,b=b,a # Swapping\u001b[0m\n\u001b[1;37m    ^\u001b[0m\n\u001b[1;31mIndentationError\u001b[0m\u001b[1;31m:\u001b[0m unexpected indent\n"
     ]
    }
   ],
   "source": [
    "a,b = 8,9\n",
    "    a,b=b,a # Swapping\n",
    "    \n",
    "print(a,b) \n",
    "\n",
    "# some errors cant be handled like: end of file, syntex error"
   ]
  },
  {
   "cell_type": "code",
   "execution_count": 30,
   "metadata": {},
   "outputs": [
    {
     "name": "stdout",
     "output_type": "stream",
     "text": [
      "caught this error : ModuleNotFoundError(\"No module named 'times'\")\n"
     ]
    }
   ],
   "source": [
    "# import error : when we try to import any wrong module\n",
    "try:\n",
    "    import times # it should be 'time' actually\n",
    "    t = time.strftime(\"%c\")\n",
    "    print(t)\n",
    "except Exception as e:\n",
    "    print(\"caught this error :\",repr(e))\n"
   ]
  },
  {
   "cell_type": "code",
   "execution_count": 38,
   "metadata": {},
   "outputs": [
    {
     "name": "stdout",
     "output_type": "stream",
     "text": [
      "average of mark1: 3.0\n",
      "Atleast one entry required\n"
     ]
    }
   ],
   "source": [
    "# what are assertions : to deal with user defined errors - errors which are not actually errors like negative money\n",
    "\n",
    "def avg(marks):\n",
    "    assert len(marks) > 0\n",
    "    return sum(marks)/len(marks)\n",
    "\n",
    "try:\n",
    "    mark1 = [2,3,4]\n",
    "    print(\"average of mark1:\",avg(mark1))\n",
    "    mark2 = []\n",
    "    print(\"average of mark1:\",avg(mark2))\n",
    "\n",
    "except AssertionError as e:\n",
    "    print(\"Atleast one entry required\")"
   ]
  },
  {
   "cell_type": "code",
   "execution_count": 86,
   "metadata": {
    "scrolled": true
   },
   "outputs": [
    {
     "name": "stdout",
     "output_type": "stream",
     "text": [
      "Please give username:asdasd\n",
      "username is : asdasd\n"
     ]
    }
   ],
   "source": [
    "# Write a function to create a user name() with 3-8 length\n",
    "\n",
    "def uname(name):\n",
    "    #assert 3<=len(name)<=8\n",
    "    assert range(len(name) not in (2,9))\n",
    "    print(\"username is :\",name)\n",
    "\n",
    "try:\n",
    "    uname(input(\"Please give username:\"))\n",
    "    \n",
    "except AssertionError as e:\n",
    "    print(\"give username with lenght of 3-8 letters !!\")\n",
    "        "
   ]
  },
  {
   "cell_type": "markdown",
   "metadata": {},
   "source": [
    "# Project"
   ]
  },
  {
   "cell_type": "code",
   "execution_count": null,
   "metadata": {},
   "outputs": [],
   "source": []
  },
  {
   "cell_type": "code",
   "execution_count": 13,
   "metadata": {},
   "outputs": [
    {
     "name": "stdout",
     "output_type": "stream",
     "text": [
      "Username :Chintan\n",
      "Password :asdasd\n",
      "Logged in successfully\n",
      "**************************************************\n",
      "Please give employee number : 5\n",
      "Behavior ratings of employee out of 10 : 5\n",
      "Rating for Out of the box contribution out of 10 : 5\n",
      "Interation rating out of 10 : 5\n",
      "Employee experience in years between 0-100 : 5\n",
      "Business Unit of employee : 5\n",
      "Current salary of employee : 5\n",
      "==================================================\n",
      "Congratulations !! you got increment of 15.500000 percent\n",
      "Your new salary is : 5.775000\n",
      "==================================================\n"
     ]
    }
   ],
   "source": [
    "# formulate the set of rules to calculate appraisal of your employees.\n",
    "'''\n",
    "1. personal index:\n",
    "    behaviour\n",
    "    countribution out of the way\n",
    "    interaction\n",
    "2. professional index:\n",
    "    no of years\n",
    "    rating\n",
    "    BU\n",
    "    current salary\n",
    "    \n",
    "Appraisal = 0.4 * Professional index * 1 * 2\n",
    "\n",
    "- user name\n",
    "- password\n",
    "- login details will be saved in file\n",
    "- open portal\n",
    "- enter details of professional and personal index\n",
    "- all details will be saved in a file - appraisal file\n",
    "'''\n",
    "import time\n",
    "\n",
    "class appraisal():\n",
    "    login_flag = 0\n",
    "    \n",
    "    def authentication(self,username,password):\n",
    "        file_uname = open(\"username.txt\",\"r\")\n",
    "        file_pwd = open(\"password.txt\",\"r\")\n",
    "        \n",
    "        log_file = open(\"log_file.txt\",\"a\")                \n",
    "        \n",
    "        log_file.write(\"=\"*50+\"\\n\")\n",
    "        log_file.write(\"Login attempt with username %s at time %s \\n\"%(username,str(time.strftime('%c'))))\n",
    "        log_file.write(\"=\"*50+\"\\n\")\n",
    "        \n",
    "        assert file_uname.read()==username and file_pwd.read()==password, \"Login Fail..!! Enter valid Username & Password\"\n",
    "        self.login_flag = 1\n",
    "        \n",
    "        log_file.write(\"=\"*50+\"\\n\")\n",
    "        log_file.write(\"Login Successful \\n\")\n",
    "        log_file.write(\"=\"*50+\"\\n\")\n",
    "        \n",
    "        log_file.close()\n",
    "        file_uname.close()\n",
    "        \n",
    "        print(\"Logged in successfully\")\n",
    "        print(\"*\"*50)\n",
    "\n",
    "    def empno(self,param):\n",
    "        assert self.login_flag==1, \"Please login first to enter employee details !!\"\n",
    "        assert param != '', \"Employee number should not be empty\"    \n",
    "        return param\n",
    "    \n",
    "    def behavior(self,param):\n",
    "        assert self.login_flag==1, \"Please login first to enter employee details !!\"\n",
    "        assert 0<=param<=10 , \"Please give Behavior rating between 1-10\"\n",
    "        return param\n",
    "    \n",
    "    def contri(self,param):\n",
    "        assert self.login_flag==1, \"Please login first to enter employee details !!\"\n",
    "        assert 0<=param<=10 , \"Please give out of the box contribution rating between 1-10\"\n",
    "        return param\n",
    "    \n",
    "    def interaction(self,param):\n",
    "        assert self.login_flag==1, \"Please login first to enter employee details !!\"\n",
    "        assert 0<=param<=10 , \"Please give Interaction rating between 1-10\"\n",
    "        return param\n",
    "    \n",
    "    def experience(self,param):\n",
    "        assert self.login_flag==1, \"Please login first to enter employee details !!\"\n",
    "        assert 0<=param<=100 , \"Please give Experience between 0 - 100 years\"\n",
    "        return param\n",
    "    \n",
    "    def BU(self,param):\n",
    "        assert self.login_flag==1, \"Please login first to enter employee details !!\"\n",
    "        assert param != '', \"Enter a valid Business Unit Name\"\n",
    "        return param\n",
    "    \n",
    "    def salary(self,param):\n",
    "        assert self.login_flag==1, \"Please login first to enter employee details !!\"\n",
    "        assert param != 0, \"Salary can not be 0\"\n",
    "        return param\n",
    "    \n",
    "    def emp_details(self):\n",
    "        assert self.login_flag==1, \"Please login first to enter employee details !!\"\n",
    "        \n",
    "        try:\n",
    "            emp_no = self.empno(input(\"Please give employee number : \"))\n",
    "            behavior = self.behavior(float(input(\"Behavior ratings of employee out of 10 : \")))\n",
    "            contri = self.contri(float(input(\"Rating for Out of the box contribution out of 10 : \")))\n",
    "            interaction = self.interaction(float(input(\"Interation rating out of 10 : \")))\n",
    "            experience = self.experience(float(input(\"Employee experience in years between 0-100 : \")))\n",
    "            BU = self.BU(input(\"Business Unit of employee : \"))\n",
    "            salary = self.salary(float(input(\"Current salary of employee : \")))\n",
    "        except AssertionError as e:\n",
    "            print(e)\n",
    "            self.emp_details()\n",
    "            \n",
    "        personal_index = (behavior+contri+interaction)/3\n",
    "        increment = 10+personal_index+(experience/10)\n",
    "        new_salary = (increment/100+1)*salary\n",
    "        print(\"=\"*50)\n",
    "        print(\"Congratulations !! you got increment of %f percent\"%(increment))\n",
    "        print(\"Your new salary is : %f\"%(new_salary))\n",
    "        print(\"=\"*50)\n",
    "        \n",
    "        \n",
    "        emp_file = open(emp_no+\".txt\",\"a\")\n",
    "        emp_file.write(\"=\"*50+\"\\n\")\n",
    "        emp_file.write(\" Details entered at : %s \\n\"%(str(time.strftime('%c'))))\n",
    "        emp_file.write(\" Employee Number : %s \\n\"%(str(emp_no)))\n",
    "        emp_file.write(\" Employee behavior ratings out of 10 : %s \\n\"%(str(behavior)))\n",
    "        emp_file.write(\" Employee out of the box contribution out of 10 : %s \\n\"%(str(contri)))\n",
    "        emp_file.write(\" Employee interaction out of 10 : %s \\n\"%(str(interaction)))\n",
    "        emp_file.write(\" Exployee total experience : %s years \\n\"%(str(experience)))\n",
    "        emp_file.write(\" Employee Business Unit : %s \\n\"%(str(BU)))\n",
    "        emp_file.write(\" Employee salary : %s \\n\"%(str(salary)))\n",
    "        emp_file.write(\" Increment : %s percent \\n\"%(str(increment)))\n",
    "        emp_file.write(\" New salary : %s \\n\"%(str(new_salary)))\n",
    "        emp_file.write(\"=\"*50+\"\\n\")\n",
    "        emp_file.close()\n",
    "        \n",
    "\n",
    "            \n",
    "try:\n",
    "    user = appraisal()\n",
    "    user.authentication(input(\"Username :\"),input(\"Password :\"))\n",
    "    user.emp_details()\n",
    "\n",
    "except AssertionError as e:\n",
    "    print(e)\n",
    "    5\n",
    "except ValueError as e:\n",
    "    print(\"Please Feed Correct Values !!\")"
   ]
  },
  {
   "cell_type": "code",
   "execution_count": null,
   "metadata": {},
   "outputs": [],
   "source": []
  }
 ],
 "metadata": {
  "kernelspec": {
   "display_name": "Python 3",
   "language": "python",
   "name": "python3"
  },
  "language_info": {
   "codemirror_mode": {
    "name": "ipython",
    "version": 3
   },
   "file_extension": ".py",
   "mimetype": "text/x-python",
   "name": "python",
   "nbconvert_exporter": "python",
   "pygments_lexer": "ipython3",
   "version": "3.7.6"
  }
 },
 "nbformat": 4,
 "nbformat_minor": 4
}
