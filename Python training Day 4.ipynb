{
 "cells": [
  {
   "cell_type": "code",
   "execution_count": null,
   "metadata": {},
   "outputs": [],
   "source": [
    "#########################################################\n",
    "#################### Class in Python ####################\n",
    "#########################################################"
   ]
  },
  {
   "cell_type": "code",
   "execution_count": 5,
   "metadata": {},
   "outputs": [
    {
     "name": "stdout",
     "output_type": "stream",
     "text": [
      "<class '__main__.program1'>\n",
      "************************************************************\n"
     ]
    }
   ],
   "source": [
    "class program1:\n",
    "    \"Hi\"\n",
    "    \n",
    "print(program1) ## Tell about status of class\n",
    "print(\"*\"*60)"
   ]
  },
  {
   "cell_type": "code",
   "execution_count": 6,
   "metadata": {},
   "outputs": [
    {
     "name": "stdout",
     "output_type": "stream",
     "text": [
      "Name of person is Ram and his Age is 29\n",
      "************************************************************\n"
     ]
    }
   ],
   "source": [
    "class person:     # Class\n",
    "    name = \"Ram\"  # Attribute\n",
    "    age = 29      # Attribute\n",
    "\n",
    "print(\"Name of person is %s and his Age is %d\"%(person.name,person.age))\n",
    "print(\"*\"*60)"
   ]
  },
  {
   "cell_type": "code",
   "execution_count": 45,
   "metadata": {},
   "outputs": [
    {
     "name": "stdout",
     "output_type": "stream",
     "text": [
      "Chintan\t30\n",
      "Kirangi\t30\n",
      "Jinaya\t22\n",
      "============================================================\n",
      "Chintan 30\n",
      "Kirangi 30\n",
      "Jinaya 22\n",
      "************************************************************\n"
     ]
    }
   ],
   "source": [
    "# Objects of the class\n",
    "\n",
    "class person:     # Class\n",
    "    name = \"Ram\"  # Attribute\n",
    "    age = 29      # Attribute\n",
    "\n",
    "emp1 = person() # declaring object of 'person' class\n",
    "emp2 = person()\n",
    "emp3 = person()\n",
    "\n",
    "emp1.name = \"Chintan\"\n",
    "emp1.age = 30\n",
    "\n",
    "emp2.name = \"Kirangi\"\n",
    "emp2.age = 30\n",
    "\n",
    "emp3.name = \"Jinaya\"\n",
    "emp3.age = 22\n",
    "\n",
    "print(emp1.name,end=\"\\t\")\n",
    "print(emp1.age,end=\"\\n\")\n",
    "print(emp2.name,end=\"\\t\")\n",
    "print(emp2.age,end=\"\\n\")\n",
    "print(emp3.name,end=\"\\t\")\n",
    "print(emp3.age,end=\"\\n\")\n",
    "print(\"=\"*60)\n",
    "\n",
    "for i in range(1,4): \n",
    "    print(eval(\"emp%d.name\"%(i)),eval(\"emp%d.age\"%(i)))\n",
    "print(\"*\"*60)"
   ]
  },
  {
   "cell_type": "markdown",
   "metadata": {},
   "source": []
  },
  {
   "cell_type": "code",
   "execution_count": 25,
   "metadata": {},
   "outputs": [
    {
     "name": "stdout",
     "output_type": "stream",
     "text": [
      "{'Samsung': 5000.0, 'Apple': 100000.0, 'One Plus': 45000.0}\n",
      "{'Samsung': 'Basic', 'Apple': 'Smart', 'One Plus': 'Smart'}\n",
      "************************************************************\n"
     ]
    }
   ],
   "source": [
    "# Create a class named mobile store with : price of mobile (float), type of mobile (smart/basic), brand\n",
    "\n",
    "class mobile:\n",
    "    brand = [\"Samsung\",\"Apple\",\"One Plus\"]\n",
    "    price = [5000.0,100000.0,45000.0]\n",
    "    type = [\"Basic\",\"Smart\",\"Smart\"]\n",
    "    \n",
    "order = mobile()\n",
    "\n",
    "print(dict(zip(order.brand,order.price)))\n",
    "print(dict(zip(order.brand,order.type)))\n",
    "\n",
    "print(\"*\"*60)"
   ]
  },
  {
   "cell_type": "markdown",
   "metadata": {},
   "source": [
    "# Self is used to represent the instance of the class. Wit this keyword you can access the attributes and mthods clas in python. it helps to bind attribtes with the given arguments.\n",
    "\n",
    "- in Python we have methods that ake the instne to be passed automatically, but not received autoamtically."
   ]
  },
  {
   "cell_type": "code",
   "execution_count": 64,
   "metadata": {},
   "outputs": [
    {
     "name": "stdout",
     "output_type": "stream",
     "text": [
      "<function X.student at 0x00000000074634C8>\n",
      "<bound method X.student of <__main__.X object at 0x0000000007FA0688>>\n",
      "this is science class Hello\n",
      "************************************************************\n"
     ]
    }
   ],
   "source": [
    "# Class and functions\n",
    "\n",
    "'''\n",
    "class ABC:\n",
    "    \"Classes and functions\"\n",
    "    a = 9\n",
    "    b = 9.0\n",
    "    def sum1(self,a,b):  # first parameters sould be representing the class it self to access its attributes\n",
    "        self.a =\n",
    "        self.b =\n",
    "'''   \n",
    "\n",
    "class X:\n",
    "    \"Classes and functions\"\n",
    "    myroll = 9\n",
    "    def student(self,a):\n",
    "        print(\"this is science class\",a)\n",
    "        \n",
    "obj1 = X()\n",
    "print(X.student)\n",
    "print(obj1.student)\n",
    "obj1.student(\"Hello\")\n",
    "\n",
    "print(\"*\"*60)"
   ]
  },
  {
   "cell_type": "code",
   "execution_count": 68,
   "metadata": {},
   "outputs": [
    {
     "name": "stdout",
     "output_type": "stream",
     "text": [
      "your bill for  dress of 10 quantity is 500 RS:\n",
      "------------------------------\n",
      "your bill for Saree dress of 2000 quantity is 500 RS:\n"
     ]
    }
   ],
   "source": [
    "class shop:\n",
    "    \"Things in my shop\"\n",
    "    Quantity = 10\n",
    "    Type = \"\"\n",
    "    Price = 500.00\n",
    "    def bill(self):\n",
    "        print(\"your bill for %s dress of %d quantity is %d RS:\"%(self.Type,self.Quantity,self.Price))\n",
    "\n",
    "obj = shop()\n",
    "obj.bill()\n",
    "print(\"-\"*30)\n",
    "obj.Quantity = 2000\n",
    "obj.Type = \"Saree\"\n",
    "obj.Proce = 750.00\n",
    "obj.bill()"
   ]
  },
  {
   "cell_type": "markdown",
   "metadata": {},
   "source": [
    "# Time Module"
   ]
  },
  {
   "cell_type": "code",
   "execution_count": 70,
   "metadata": {},
   "outputs": [
    {
     "name": "stdout",
     "output_type": "stream",
     "text": [
      "Wed Apr 22 13:49:32 2020\n"
     ]
    }
   ],
   "source": [
    "# modules have multiple classes and functions\n",
    "# Time module is a similar module\n",
    "# help to fetch current tie, check local time, timzone,\n",
    "\n",
    "from time import time, ctime\n",
    "\n",
    "t = time()\n",
    "\n",
    "print(ctime(t)) ## for current time"
   ]
  },
  {
   "cell_type": "code",
   "execution_count": 75,
   "metadata": {},
   "outputs": [
    {
     "data": {
      "text/plain": [
       "'India Standard Time'"
      ]
     },
     "execution_count": 75,
     "metadata": {},
     "output_type": "execute_result"
    }
   ],
   "source": [
    "import time \n",
    "current_local = time.localtime()\n",
    "current_local.tm_zone"
   ]
  },
  {
   "cell_type": "code",
   "execution_count": 90,
   "metadata": {},
   "outputs": [
    {
     "name": "stdout",
     "output_type": "stream",
     "text": [
      "2020-04-22\n",
      "2020/04/22 - 14:11:15\n",
      "Wednesday/April  Wed/Apr\n",
      "14-11 PM\n",
      "+0530\n"
     ]
    }
   ],
   "source": [
    "import time\n",
    "print(time.strftime('%Y-%m-%d',time.localtime()))\n",
    "print(time.strftime('%Y/%m/%d - %H:%M:%S',time.localtime()))\n",
    "print(time.strftime(\"%A/%B  %a/%b\"))\n",
    "print(time.strftime(\"%H-%M %p\"))\n",
    "print(time.strftime(\"%z\"))"
   ]
  },
  {
   "cell_type": "code",
   "execution_count": 94,
   "metadata": {},
   "outputs": [
    {
     "name": "stdout",
     "output_type": "stream",
     "text": [
      "Wed Apr 22 14:14:57 2020\n",
      "Wed Apr 22 14:15:07 2020\n"
     ]
    }
   ],
   "source": [
    "from time import strftime,localtime\n",
    "\n",
    "print(strftime('%c', localtime()))\n",
    "time.sleep(10)\n",
    "print(strftime('%c', localtime()))"
   ]
  },
  {
   "cell_type": "markdown",
   "metadata": {},
   "source": [
    "# Calendar module"
   ]
  },
  {
   "cell_type": "code",
   "execution_count": 106,
   "metadata": {},
   "outputs": [
    {
     "name": "stdout",
     "output_type": "stream",
     "text": [
      "     April 2020\n",
      "Mo Tu We Th Fr Sa Su\n",
      "       1  2  3  4  5\n",
      " 6  7  8  9 10 11 12\n",
      "13 14 15 16 17 18 19\n",
      "20 21 22 23 24 25 26\n",
      "27 28 29 30\n",
      "\n",
      "************************************************************\n",
      "Calendar of year\n",
      "************************************************************\n",
      "                   2020\n",
      "\n",
      "\n",
      "\n",
      "      January               February\n",
      "\n",
      "Mo Tu We Th Fr Sa Su  Mo Tu We Th Fr Sa Su\n",
      "\n",
      "       1  2  3  4  5                  1  2\n",
      "\n",
      " 6  7  8  9 10 11 12   3  4  5  6  7  8  9\n",
      "\n",
      "13 14 15 16 17 18 19  10 11 12 13 14 15 16\n",
      "\n",
      "20 21 22 23 24 25 26  17 18 19 20 21 22 23\n",
      "\n",
      "27 28 29 30 31        24 25 26 27 28 29\n",
      "\n",
      "\n",
      "\n",
      "       March                 April\n",
      "\n",
      "Mo Tu We Th Fr Sa Su  Mo Tu We Th Fr Sa Su\n",
      "\n",
      "                   1         1  2  3  4  5\n",
      "\n",
      " 2  3  4  5  6  7  8   6  7  8  9 10 11 12\n",
      "\n",
      " 9 10 11 12 13 14 15  13 14 15 16 17 18 19\n",
      "\n",
      "16 17 18 19 20 21 22  20 21 22 23 24 25 26\n",
      "\n",
      "23 24 25 26 27 28 29  27 28 29 30\n",
      "\n",
      "30 31\n",
      "\n",
      "\n",
      "\n",
      "        May                   June\n",
      "\n",
      "Mo Tu We Th Fr Sa Su  Mo Tu We Th Fr Sa Su\n",
      "\n",
      "             1  2  3   1  2  3  4  5  6  7\n",
      "\n",
      " 4  5  6  7  8  9 10   8  9 10 11 12 13 14\n",
      "\n",
      "11 12 13 14 15 16 17  15 16 17 18 19 20 21\n",
      "\n",
      "18 19 20 21 22 23 24  22 23 24 25 26 27 28\n",
      "\n",
      "25 26 27 28 29 30 31  29 30\n",
      "\n",
      "\n",
      "\n",
      "        July                 August\n",
      "\n",
      "Mo Tu We Th Fr Sa Su  Mo Tu We Th Fr Sa Su\n",
      "\n",
      "       1  2  3  4  5                  1  2\n",
      "\n",
      " 6  7  8  9 10 11 12   3  4  5  6  7  8  9\n",
      "\n",
      "13 14 15 16 17 18 19  10 11 12 13 14 15 16\n",
      "\n",
      "20 21 22 23 24 25 26  17 18 19 20 21 22 23\n",
      "\n",
      "27 28 29 30 31        24 25 26 27 28 29 30\n",
      "\n",
      "                      31\n",
      "\n",
      "\n",
      "\n",
      "     September              October\n",
      "\n",
      "Mo Tu We Th Fr Sa Su  Mo Tu We Th Fr Sa Su\n",
      "\n",
      "    1  2  3  4  5  6            1  2  3  4\n",
      "\n",
      " 7  8  9 10 11 12 13   5  6  7  8  9 10 11\n",
      "\n",
      "14 15 16 17 18 19 20  12 13 14 15 16 17 18\n",
      "\n",
      "21 22 23 24 25 26 27  19 20 21 22 23 24 25\n",
      "\n",
      "28 29 30              26 27 28 29 30 31\n",
      "\n",
      "\n",
      "\n",
      "      November              December\n",
      "\n",
      "Mo Tu We Th Fr Sa Su  Mo Tu We Th Fr Sa Su\n",
      "\n",
      "                   1      1  2  3  4  5  6\n",
      "\n",
      " 2  3  4  5  6  7  8   7  8  9 10 11 12 13\n",
      "\n",
      " 9 10 11 12 13 14 15  14 15 16 17 18 19 20\n",
      "\n",
      "16 17 18 19 20 21 22  21 22 23 24 25 26 27\n",
      "\n",
      "23 24 25 26 27 28 29  28 29 30 31\n",
      "\n",
      "30\n",
      "\n",
      "\n"
     ]
    }
   ],
   "source": [
    "import calendar\n",
    "\n",
    "c=calendar.month(2020,4)\n",
    "print(c)\n",
    "\n",
    "print(\"*\"*60)\n",
    "print(\"Calendar of year\")\n",
    "print(\"*\"*60)\n",
    "\n",
    "print(calendar.TextCalendar(calendar.MONDAY).formatyear(2020,2,2,2,2))"
   ]
  },
  {
   "cell_type": "code",
   "execution_count": 109,
   "metadata": {},
   "outputs": [
    {
     "name": "stdout",
     "output_type": "stream",
     "text": [
      "Input year:2020\n",
      "True\n"
     ]
    }
   ],
   "source": [
    "# Leap year check\n",
    "\n",
    "a = int(input(\"Input year:\"))\n",
    "leap = calendar.isleap(a)\n",
    "print(leap)"
   ]
  },
  {
   "cell_type": "code",
   "execution_count": null,
   "metadata": {},
   "outputs": [],
   "source": []
  }
 ],
 "metadata": {
  "kernelspec": {
   "display_name": "Python 3",
   "language": "python",
   "name": "python3"
  },
  "language_info": {
   "codemirror_mode": {
    "name": "ipython",
    "version": 3
   },
   "file_extension": ".py",
   "mimetype": "text/x-python",
   "name": "python",
   "nbconvert_exporter": "python",
   "pygments_lexer": "ipython3",
   "version": "3.7.6"
  }
 },
 "nbformat": 4,
 "nbformat_minor": 4
}
