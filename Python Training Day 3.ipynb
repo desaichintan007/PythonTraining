{
 "cells": [
  {
   "cell_type": "code",
   "execution_count": 1,
   "metadata": {},
   "outputs": [],
   "source": [
    "########### Day 3 of Python Training ###########"
   ]
  },
  {
   "cell_type": "code",
   "execution_count": 1,
   "metadata": {},
   "outputs": [
    {
     "name": "stdout",
     "output_type": "stream",
     "text": [
      "Loop 0\n",
      "Loop 1\n",
      "Loop 2\n",
      "Out of loop\n"
     ]
    }
   ],
   "source": [
    "########### While Loop ###########\n",
    "\n",
    "x=0\n",
    "while x<3:\n",
    "    print(\"Loop\",x)\n",
    "    x = x + 1\n",
    "print(\"Out of loop\")"
   ]
  },
  {
   "cell_type": "code",
   "execution_count": 4,
   "metadata": {},
   "outputs": [
    {
     "name": "stdout",
     "output_type": "stream",
     "text": [
      "1\t2\t3\t4\t5\t"
     ]
    }
   ],
   "source": [
    "x = 1\n",
    "while x < 6:\n",
    "    print(x,end=\"\\t\")\n",
    "    x = x + 1"
   ]
  },
  {
   "cell_type": "code",
   "execution_count": 8,
   "metadata": {},
   "outputs": [
    {
     "name": "stdout",
     "output_type": "stream",
     "text": [
      "4\t3\t2\t1\t"
     ]
    }
   ],
   "source": [
    "i = 4\n",
    "while i>0:\n",
    "    print(i,end=\"\\t\")\n",
    "    i = i - 1"
   ]
  },
  {
   "cell_type": "code",
   "execution_count": 18,
   "metadata": {},
   "outputs": [
    {
     "name": "stdout",
     "output_type": "stream",
     "text": [
      "Enter lines of text \n",
      "Enter empty line to quit\n",
      "input:a\n",
      "input:b\n",
      "input:c\n",
      "input:d\n",
      "input:\n",
      "No inputs recived: QUIT!!\n"
     ]
    }
   ],
   "source": [
    "lines = list()\n",
    "print(\"Enter lines of text \")\n",
    "print(\"Enter empty line to quit\")\n",
    "\n",
    "line = input(\"input:\")\n",
    "\n",
    "while line != '':\n",
    "    lines.append(line)\n",
    "    line = input(\"input:\")\n",
    "    \n",
    "print(\"No inputs recived: QUIT!!\")"
   ]
  },
  {
   "cell_type": "code",
   "execution_count": 23,
   "metadata": {},
   "outputs": [
    {
     "name": "stdout",
     "output_type": "stream",
     "text": [
      "11\n",
      "13\n",
      "15\n",
      "17\n",
      "19\n"
     ]
    }
   ],
   "source": [
    "# Break, Continue and Enumerate\n",
    "\n",
    "for x in range(10,20):\n",
    "    if(x==15): break     # this will exit the loop entirely\n",
    "    if(x%2==0): continue # this will skip the further execution and move to next iteration\n",
    "    print(x)"
   ]
  },
  {
   "cell_type": "code",
   "execution_count": 24,
   "metadata": {},
   "outputs": [
    {
     "data": {
      "text/plain": [
       "[(0, 'eat'), (1, 'sleep'), (2, 'repeat')]"
      ]
     },
     "execution_count": 24,
     "metadata": {},
     "output_type": "execute_result"
    }
   ],
   "source": [
    "l1 = [\"eat\",\"sleep\",\"repeat\"]\n",
    "list(enumerate(l1))    # list the numbers in form of index"
   ]
  },
  {
   "cell_type": "code",
   "execution_count": 25,
   "metadata": {},
   "outputs": [
    {
     "name": "stdout",
     "output_type": "stream",
     "text": [
      "0 jan\n",
      "1 feb\n",
      "2 mar\n",
      "3 apr\n",
      "4 may\n",
      "5 jun\n"
     ]
    }
   ],
   "source": [
    "months = [\"jan\",\"feb\",\"mar\",\"apr\",\"may\",\"jun\"]\n",
    "for i,m in enumerate(months):\n",
    "    print(i,m)"
   ]
  },
  {
   "cell_type": "code",
   "execution_count": 26,
   "metadata": {},
   "outputs": [
    {
     "data": {
      "text/plain": [
       "3"
      ]
     },
     "execution_count": 26,
     "metadata": {},
     "output_type": "execute_result"
    }
   ],
   "source": [
    "############## Functions ##############\n",
    "\n",
    "def demo(x,y):\n",
    "    return(x)\n",
    "demo(3,4)"
   ]
  },
  {
   "cell_type": "code",
   "execution_count": 35,
   "metadata": {},
   "outputs": [
    {
     "name": "stdout",
     "output_type": "stream",
     "text": [
      "sub -1\n",
      "Power 512\n"
     ]
    }
   ],
   "source": [
    "def calc(operation,x,y):\n",
    "    if operation=='+':\n",
    "        print(\"sum\",x+y)\n",
    "    if operation=='-':\n",
    "        print(\"sub\",x-y)\n",
    "calc('-',3,4)\n",
    "\n",
    "def calc1(x,y,z):\n",
    "    print(\"Power\",x**y**z)\n",
    "    \n",
    "calc1(2,3,2)"
   ]
  },
  {
   "cell_type": "code",
   "execution_count": 47,
   "metadata": {},
   "outputs": [
    {
     "name": "stdout",
     "output_type": "stream",
     "text": [
      "Your Name: chintan\n",
      "Your age: 30\n",
      "Experience :4.5\n"
     ]
    }
   ],
   "source": [
    "def Emp(name=\"\",age=10,exp=0.0):\n",
    "    name = input(\"Your Name: \")\n",
    "    age = int(input(\"Your age: \"))\n",
    "    exp = float(input(\"Experience :\"))\n",
    "\n",
    "Emp()"
   ]
  },
  {
   "cell_type": "code",
   "execution_count": 48,
   "metadata": {},
   "outputs": [
    {
     "name": "stdout",
     "output_type": "stream",
     "text": [
      "Chintan is a 30 years M !!\n"
     ]
    }
   ],
   "source": [
    "def data(name=\"\",age=12,gender=\"M\"):\n",
    "    print(\"%s is a %d years %s !!\"%(name,age,gender))\n",
    "\n",
    "data(\"Chintan\",30,\"M\")"
   ]
  },
  {
   "cell_type": "code",
   "execution_count": null,
   "metadata": {},
   "outputs": [],
   "source": [
    "'''\n",
    "1> Wite a python function to sum all numbers in a list\n",
    "2> Write a python function to check wether given number is in the provided rage\n",
    "3> A function to calculate all the upper case letters and lower cas letters from the given string\n",
    "'''"
   ]
  },
  {
   "cell_type": "code",
   "execution_count": 65,
   "metadata": {},
   "outputs": [
    {
     "data": {
      "text/plain": [
       "24"
      ]
     },
     "execution_count": 65,
     "metadata": {},
     "output_type": "execute_result"
    }
   ],
   "source": [
    "############## Program 1 ##############\n",
    "\n",
    "input_list = [12,12]\n",
    "\n",
    "def sum_list(list):\n",
    "    total = 0\n",
    "    #for i in range(0,len(list)):\n",
    "    for i in list:\n",
    "        total = total+i\n",
    "    return(total)\n",
    "\n",
    "sum_list(input_list)\n"
   ]
  },
  {
   "cell_type": "code",
   "execution_count": 62,
   "metadata": {},
   "outputs": [
    {
     "name": "stdout",
     "output_type": "stream",
     "text": [
      "Give Number to search: 5\n",
      "range start number: 1\n",
      "range end number: 6\n",
      "Number is in range\n"
     ]
    }
   ],
   "source": [
    "\n",
    "\n",
    "############## Program 2 ##############\n",
    "\n",
    "number = int(input(\"Give Number to search: \"))\n",
    "low_rage = int(input(\"range start number: \"))\n",
    "high_rage = int(input(\"range end number: \"))\n",
    "\n",
    "def rageSearch(number,low,high):\n",
    "    if number>= low and number <= high: print(\"Number is in range\")\n",
    "    else: print(\"Number is out of the range\")\n",
    "\n",
    "rageSearch(number,low_rage, high_rage)\n",
    "\n",
    "\n"
   ]
  },
  {
   "cell_type": "code",
   "execution_count": 70,
   "metadata": {},
   "outputs": [
    {
     "name": "stdout",
     "output_type": "stream",
     "text": [
      "{'Upper Case': 4, 'Lower Case': 11, 'Space': 3}\n"
     ]
    }
   ],
   "source": [
    "############## Program 3 ##############\n",
    "\n",
    "def calculate(input):\n",
    "    d={\"Upper Case\":0,\"Lower Case\":0,\"Space\":0}\n",
    "    for c in input:\n",
    "        if c.isupper():\n",
    "            d[\"Upper Case\"]+=1\n",
    "        if c.islower():\n",
    "            d[\"Lower Case\"]+=1\n",
    "        if c.isspace():\n",
    "            d[\"Space\"]+=1\n",
    "    print(d)\n",
    "\n",
    "calculate(\"My Name Is Chintan\")"
   ]
  },
  {
   "cell_type": "code",
   "execution_count": 73,
   "metadata": {},
   "outputs": [
    {
     "name": "stdout",
     "output_type": "stream",
     "text": [
      "15\n"
     ]
    }
   ],
   "source": [
    "########### Lambda Functions ###########\n",
    "'''\n",
    "Lamda is one iner function\n",
    "We use this with the functions in mapping and filtering in daa analytics\n",
    "lambda functions are used for mahimetical functions\n",
    "lambda fuctions are best used for removing the iteration steps\n",
    "'''\n",
    "\n",
    "\n",
    "x = lambda a:a*3\n",
    "print(x(5))  # x is the lambda function and we are pasing the value og  for 'a', ame of functions can never be the variable name"
   ]
  },
  {
   "cell_type": "code",
   "execution_count": 77,
   "metadata": {},
   "outputs": [
    {
     "name": "stdout",
     "output_type": "stream",
     "text": [
      "8\n"
     ]
    }
   ],
   "source": [
    "power = lambda a,b : a**b\n",
    "\n",
    "print(power(2,3))"
   ]
  },
  {
   "cell_type": "code",
   "execution_count": 2,
   "metadata": {},
   "outputs": [
    {
     "name": "stdout",
     "output_type": "stream",
     "text": [
      "[1, 3, 23]\n"
     ]
    }
   ],
   "source": [
    "# use of lambda\n",
    "a = [1,3,4,6,23,44,56,78,90]\n",
    "list_odd = list(filter(lambda x : (x % 2 != 0),a))\n",
    "print(list_odd)"
   ]
  },
  {
   "cell_type": "code",
   "execution_count": 3,
   "metadata": {},
   "outputs": [
    {
     "name": "stdout",
     "output_type": "stream",
     "text": [
      "enter value: 25\n"
     ]
    },
    {
     "data": {
      "text/plain": [
       "5.0"
      ]
     },
     "execution_count": 3,
     "metadata": {},
     "output_type": "execute_result"
    }
   ],
   "source": [
    "import math  #importing mathc module - factorial, log, power, sign, radian, sin, etc \n",
    "\n",
    "x = int(input(\"enter value: \"))\n",
    "math.factorial(x)\n",
    "math.exp(x)\n",
    "math.acosh(x)\n",
    "math.pi\n",
    "math.radians(x)\n",
    "math.sin(1.04719)\n",
    "math.log(x)\n",
    "math.log10(x)\n",
    "math.sqrt(x)"
   ]
  },
  {
   "cell_type": "code",
   "execution_count": 14,
   "metadata": {},
   "outputs": [
    {
     "name": "stdout",
     "output_type": "stream",
     "text": [
      "20\n"
     ]
    }
   ],
   "source": [
    "def myfunc(n):\n",
    "    return(lambda a,b: (a+b)*n)\n",
    "var = myfunc(4)\n",
    "print(var(2,3))"
   ]
  }
 ],
 "metadata": {
  "kernelspec": {
   "display_name": "Python 3",
   "language": "python",
   "name": "python3"
  },
  "language_info": {
   "codemirror_mode": {
    "name": "ipython",
    "version": 3
   },
   "file_extension": ".py",
   "mimetype": "text/x-python",
   "name": "python",
   "nbconvert_exporter": "python",
   "pygments_lexer": "ipython3",
   "version": "3.7.6"
  }
 },
 "nbformat": 4,
 "nbformat_minor": 4
}
