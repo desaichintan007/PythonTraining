{
 "cells": [
  {
   "cell_type": "code",
   "execution_count": 6,
   "metadata": {},
   "outputs": [
    {
     "name": "stdout",
     "output_type": "stream",
     "text": [
      "0\n",
      "6\n"
     ]
    }
   ],
   "source": [
    "# find function in string\n",
    "\n",
    "string1 = \"cat pictur is cat picture\"\n",
    "\n",
    "# find first index of this string \n",
    "i = string1.find(\"c\")\n",
    "print(i)\n",
    "\n",
    "# print first index after precious index\n",
    "b = string1.find(\"c\",i+1)\n",
    "print(b)"
   ]
  },
  {
   "cell_type": "code",
   "execution_count": 11,
   "metadata": {},
   "outputs": [
    {
     "name": "stdout",
     "output_type": "stream",
     "text": [
      "class= <class 'dict'>\n",
      "1\n",
      "dict_keys(['a', 'b', 'c'])\n",
      "dict_values([1, 2, 3])\n"
     ]
    }
   ],
   "source": [
    "c = {\"a\":1,\"b\":2,\"c\":3}\n",
    "print(\"class=\",type(c))\n",
    "print(c[\"a\"])\n",
    "print(c.keys())\n",
    "print(c.values())"
   ]
  },
  {
   "cell_type": "code",
   "execution_count": 13,
   "metadata": {},
   "outputs": [
    {
     "name": "stdout",
     "output_type": "stream",
     "text": [
      "{'a': 1, 'b': 2, 'c': 3}\n",
      "{'b': 2, 'c': 3, 'f': 6}\n"
     ]
    }
   ],
   "source": [
    "print(c)\n",
    "c.pop(\"a\")     # removes  particular element from dictionary\n",
    "c.update({\"f\":6}) # add value to the dictionary\n",
    "print(c)"
   ]
  },
  {
   "cell_type": "code",
   "execution_count": 19,
   "metadata": {},
   "outputs": [
    {
     "name": "stdout",
     "output_type": "stream",
     "text": [
      "original   {1: 100, 2: 200, 3: 300, 4: 432, 0: 506}\n",
      "[(0, 506), (1, 100), (2, 200), (3, 300), (4, 432)]\n",
      "[(0, 506), (4, 432), (3, 300), (2, 200), (1, 100)]\n"
     ]
    }
   ],
   "source": [
    "#### operator module : arrange dictionary in asc order ####\n",
    "import operator\n",
    "\n",
    "d = {1:100,2:200,3:300,4:432,0:506}\n",
    "print(\"original  \", d)\n",
    "\n",
    "sorted_d = sorted(d.items(), key=operator.itemgetter(0))     # 0 is for sort by key\n",
    "print(sorted_d)\n",
    "\n",
    "sorted_d = sorted(d.items(), key=operator.itemgetter(1),reverse=True)    # 1 is for sort by value, reverse for reverse order\n",
    "print(sorted_d)"
   ]
  },
  {
   "cell_type": "code",
   "execution_count": 22,
   "metadata": {},
   "outputs": [
    {
     "name": "stdout",
     "output_type": "stream",
     "text": [
      "merge two dictionaries in into d1: \n"
     ]
    },
    {
     "data": {
      "text/plain": [
       "{'a': 1, 'b': 2, 'c': 3, 'd': 4}"
      ]
     },
     "execution_count": 22,
     "metadata": {},
     "output_type": "execute_result"
    }
   ],
   "source": [
    "d1 = {\"a\":1,\"b\":2}\n",
    "d2 = {\"c\":3,\"d\":4}\n",
    "print(\"merge two dictionaries in into d1: \")\n",
    "d1.update(d2)\n",
    "d1"
   ]
  },
  {
   "cell_type": "code",
   "execution_count": 23,
   "metadata": {},
   "outputs": [
    {
     "name": "stdout",
     "output_type": "stream",
     "text": [
      "{0: 'red', 1: 'green', 2: 'blue'}\n"
     ]
    }
   ],
   "source": [
    "# map two list into dictionaries\n",
    "\n",
    "a = [\"red\",\"green\",\"blue\"]\n",
    "b = [0,1,2]\n",
    "d1 = dict(zip(b,a))\n",
    "print(d1)"
   ]
  },
  {
   "cell_type": "code",
   "execution_count": 31,
   "metadata": {},
   "outputs": [
    {
     "data": {
      "text/plain": [
       "{'001': 'Manager', '002': 'Trainee', '003': 'Hr'}"
      ]
     },
     "execution_count": 31,
     "metadata": {},
     "output_type": "execute_result"
    }
   ],
   "source": [
    "a = ['001','002','003','004']\n",
    "b = [\"Manager\", \"Trainee\",\"Hr\"]\n",
    "c = dict(zip(a,b))\n",
    "c"
   ]
  },
  {
   "cell_type": "code",
   "execution_count": 33,
   "metadata": {},
   "outputs": [
    {
     "data": {
      "text/plain": [
       "{11, 12, 13, 14, 18}"
      ]
     },
     "execution_count": 33,
     "metadata": {},
     "output_type": "execute_result"
    }
   ],
   "source": [
    "# Another datatype :~ SETS (set theory, works in that manner only, no mathematical operations)\n",
    "# Sets are denoted by curly braces\n",
    "# set is collection of ordered set of unique items\n",
    "\n",
    "set1 = {18,11,12,13,14,14,14}\n",
    "set1"
   ]
  },
  {
   "cell_type": "code",
   "execution_count": 38,
   "metadata": {},
   "outputs": [
    {
     "name": "stdout",
     "output_type": "stream",
     "text": [
      "s1 : {1, 3, 4, 5, 9, 22, 23}\n",
      "s2 : {0, 1, 8, 9}\n",
      "Elements that are in s1 and not in s2 {3, 4, 5, 22, 23}\n",
      "Elements which are in both s1 and s2 {1, 9}\n",
      "union of s1 and s2 {0, 1, 3, 4, 5, 8, 9, 22, 23}\n"
     ]
    }
   ],
   "source": [
    "s1 = {1,22,23,3,4,9,5}\n",
    "s2 = {1,0,8,9,9,}\n",
    "print(\"s1 :\",s1)\n",
    "print(\"s2 :\",s2)\n",
    "\n",
    "print(\"Elements that are in s1 and not in s2 :\", s1-s2)\n",
    "print(\"Elements which are in both s1 and s2 :\",s1&s2)\n",
    "print(\"union of s1 and s2\" :,s1|s2)"
   ]
  },
  {
   "cell_type": "code",
   "execution_count": 40,
   "metadata": {},
   "outputs": [
    {
     "data": {
      "text/plain": [
       "{1, 4, 5, 9, 22, 23}"
      ]
     },
     "execution_count": 40,
     "metadata": {},
     "output_type": "execute_result"
    }
   ],
   "source": [
    "s1.remove(3) # remove element from set\n",
    "s1"
   ]
  },
  {
   "cell_type": "code",
   "execution_count": 42,
   "metadata": {},
   "outputs": [
    {
     "name": "stdout",
     "output_type": "stream",
     "text": [
      "set= frozenset({1, 2, 3, 4})\n",
      "Type= <class 'frozenset'>\n"
     ]
    },
    {
     "ename": "AttributeError",
     "evalue": "'frozenset' object has no attribute 'remove'",
     "output_type": "error",
     "traceback": [
      "\u001b[1;31m---------------------------------------------------------------------------\u001b[0m",
      "\u001b[1;31mAttributeError\u001b[0m                            Traceback (most recent call last)",
      "\u001b[1;32m<ipython-input-42-58a5d28bf703>\u001b[0m in \u001b[0;36m<module>\u001b[1;34m\u001b[0m\n\u001b[0;32m      4\u001b[0m \u001b[0mprint\u001b[0m\u001b[1;33m(\u001b[0m\u001b[1;34m\"set=\"\u001b[0m\u001b[1;33m,\u001b[0m\u001b[0mfs\u001b[0m\u001b[1;33m)\u001b[0m\u001b[1;33m\u001b[0m\u001b[1;33m\u001b[0m\u001b[0m\n\u001b[0;32m      5\u001b[0m \u001b[0mprint\u001b[0m\u001b[1;33m(\u001b[0m\u001b[1;34m\"Type=\"\u001b[0m\u001b[1;33m,\u001b[0m\u001b[0mtype\u001b[0m\u001b[1;33m(\u001b[0m\u001b[0mfs\u001b[0m\u001b[1;33m)\u001b[0m\u001b[1;33m)\u001b[0m\u001b[1;33m\u001b[0m\u001b[1;33m\u001b[0m\u001b[0m\n\u001b[1;32m----> 6\u001b[1;33m \u001b[0mfs\u001b[0m\u001b[1;33m.\u001b[0m\u001b[0mremove\u001b[0m\u001b[1;33m(\u001b[0m\u001b[1;36m3\u001b[0m\u001b[1;33m)\u001b[0m\u001b[1;33m\u001b[0m\u001b[1;33m\u001b[0m\u001b[0m\n\u001b[0m",
      "\u001b[1;31mAttributeError\u001b[0m: 'frozenset' object has no attribute 'remove'"
     ]
    }
   ],
   "source": [
    "# Frozen sets - once the set is frozen, you cant change the set\n",
    "\n",
    "fs = frozenset({1,2,3,4})\n",
    "print(\"set=\",fs)\n",
    "print(\"Type=\",type(fs))\n",
    "fs.remove(3)"
   ]
  },
  {
   "cell_type": "code",
   "execution_count": 47,
   "metadata": {},
   "outputs": [
    {
     "name": "stdout",
     "output_type": "stream",
     "text": [
      "Your name=asd\n"
     ]
    }
   ],
   "source": [
    "########################################\n",
    "######## If - Else statement \n",
    "########################################\n",
    "\n",
    "'''\n",
    "if condition1:\n",
    "    sstatements\n",
    "elif condition2:\n",
    "    statements\n",
    "else\n",
    "    pass\n",
    "'''\n",
    "\n",
    "x=input(\"Your name=\")\n",
    "if len(x)>10:\n",
    "    print(\"Name is more than 10 letters\")\n",
    "elif len(x)<=10 and len(x)>5:\n",
    "    print(\"betwen 5-10\")\n",
    "else:\n",
    "    pass"
   ]
  },
  {
   "cell_type": "code",
   "execution_count": 52,
   "metadata": {},
   "outputs": [
    {
     "name": "stdout",
     "output_type": "stream",
     "text": [
      "Create username: c\n",
      "Create password: p\n",
      "your username and password are registered\n",
      "**************************************************\n",
      "Username: c\n",
      "Password: p\n",
      "Congratulations!! You have logged successfully..\n",
      "Please register your details\n",
      "Name: chintan\n",
      "Age: 30\n",
      "Gender: M\n",
      "{'Name': 'chintan', 'Age': '30', 'Gender': 'M'}\n"
     ]
    }
   ],
   "source": [
    "'''\n",
    "Create program to create username and password and \n",
    "let the user login again with username ans password if everything is correct\n",
    "'''\n",
    "\n",
    "user_details={\"Name\":'',\"Age\":'',\"Gender\":''}\n",
    "Username = input(\"Create username: \")\n",
    "Password = input(\"Create password: \")\n",
    "\n",
    "print(\"your username and password are registered\")\n",
    "print(\"*\"*50)\n",
    "username_attempt=input(\"Username: \")\n",
    "password_attempt=input(\"Password: \")\n",
    "\n",
    "if Username == username_attempt and Password == password_attempt:\n",
    "    print(\"Congratulations!! You have logged successfully..\")\n",
    "    print(\"Please register your details\")\n",
    "    user_details[\"Name\"] = input(\"Name: \")\n",
    "    user_details[\"Age\"] = input(\"Age: \")\n",
    "    user_details[\"Gender\"] = input(\"Gender: \")\n",
    "    print(user_details)\n",
    "    \n",
    "else:\n",
    "    print(\"Unsuccessfull attempt ! please try again\")"
   ]
  },
  {
   "cell_type": "code",
   "execution_count": 57,
   "metadata": {},
   "outputs": [
    {
     "name": "stdout",
     "output_type": "stream",
     "text": [
      "1\t2\t3\t4\t5\t6\t7\t"
     ]
    }
   ],
   "source": [
    "######################################\n",
    "# Loops\n",
    "######################################\n",
    "\n",
    "# For loop\n",
    "for i in range(1,8):\n",
    "    print(i,end=\"\\t\")"
   ]
  },
  {
   "cell_type": "code",
   "execution_count": 63,
   "metadata": {},
   "outputs": [
    {
     "name": "stdout",
     "output_type": "stream",
     "text": [
      "1\t3\t5\t7\t9\t11\t13\t15\t17\t19\t\n",
      "\n",
      "102\t100\t98\t96\t94\t92\t90\t88\t86\t84\t82\t80\t78\t76\t74\t72\t70\t68\t66\t64\t62\t60\t58\t56\t54\t52\t50\t48\t46\t44\t42\t40\t38\t36\t34\t32\t30\t28\t26\t24\t22\t20\t18\t16\t14\t12\t"
     ]
    }
   ],
   "source": [
    "for i in range(1,20,2):\n",
    "    print(i,end=\"\\t\")\n",
    "    \n",
    "print(\"\\n\")\n",
    "\n",
    "for i in range(102,10,-2):\n",
    "    print(i,end=\"\\t\")"
   ]
  },
  {
   "cell_type": "code",
   "execution_count": 69,
   "metadata": {
    "scrolled": true
   },
   "outputs": [
    {
     "name": "stdout",
     "output_type": "stream",
     "text": [
      "Red\tPink\t\n",
      "\n",
      "1\t2\t\n",
      "\n",
      "1\t2\t"
     ]
    }
   ],
   "source": [
    "# for loop in a dictionary\n",
    "\n",
    "d={1:\"Red\",2:\"Pink\"}\n",
    "\n",
    "for i in d.values():\n",
    "    print(i,end=\"\\t\")\n",
    "    \n",
    "print(\"\\n\")\n",
    "\n",
    "for i in d.keys():\n",
    "    print(i,end=\"\\t\")\n",
    "\n",
    "print(\"\\n\")\n",
    "\n",
    "for i in d:\n",
    "    print(i,end=\"\\t\")"
   ]
  },
  {
   "cell_type": "code",
   "execution_count": 5,
   "metadata": {},
   "outputs": [
    {
     "name": "stdout",
     "output_type": "stream",
     "text": [
      "0 Machine Learning\n",
      "1 Data Analytics\n",
      "2 IoT\n",
      "3 Data Science\n"
     ]
    },
    {
     "data": {
      "text/plain": [
       "str"
      ]
     },
     "execution_count": 5,
     "metadata": {},
     "output_type": "execute_result"
    }
   ],
   "source": [
    "course = {'IoT', 'Data Science', 'Data Analytics', 'Machine Learning')\n",
    "for index, course in enumerate(course):\n",
    "    print(index,course)\n",
    "type(course)"
   ]
  },
  {
   "cell_type": "code",
   "execution_count": 6,
   "metadata": {},
   "outputs": [
    {
     "name": "stdout",
     "output_type": "stream",
     "text": [
      "0.04272951200005082\n",
      "0.2189216489998671\n"
     ]
    }
   ],
   "source": [
    "# Tuples run faster than List\n",
    "import timeit \n",
    "print(timeit.timeit('a=(1,2,3,4,5,6,7,8,9,10,11,12)', number=2000000))\n",
    "print(timeit.timeit('b=[1,2,3,4,5,6,7,8,9,10,11,12]', number=2000000))"
   ]
  },
  {
   "cell_type": "code",
   "execution_count": 12,
   "metadata": {},
   "outputs": [
    {
     "data": {
      "text/plain": [
       "7"
      ]
     },
     "execution_count": 12,
     "metadata": {},
     "output_type": "execute_result"
    }
   ],
   "source": [
    "a=((6,7,3),(8,9,0),(7,3,3))\n",
    "a\n",
    "a[0][1]"
   ]
  },
  {
   "cell_type": "code",
   "execution_count": 13,
   "metadata": {},
   "outputs": [
    {
     "name": "stdout",
     "output_type": "stream",
     "text": [
      "(6, 7, 3)\n",
      "(8, 9, 0)\n",
      "(7, 3, 3)\n"
     ]
    }
   ],
   "source": [
    "for i in a:\n",
    "    print(i)"
   ]
  },
  {
   "cell_type": "code",
   "execution_count": 20,
   "metadata": {},
   "outputs": [
    {
     "name": "stdout",
     "output_type": "stream",
     "text": [
      "{}\n"
     ]
    }
   ],
   "source": [
    "d={}\n",
    "d={\"a\":2,\"b\":3,\"c\":3}\n",
    "d\n",
    "d[\"a\"]\n",
    "d.keys()\n",
    "d.values()\n",
    "max(d.values())\n",
    "\n",
    "d.clear()\n",
    "print(d)"
   ]
  }
 ],
 "metadata": {
  "kernelspec": {
   "display_name": "Python 3",
   "language": "python",
   "name": "python3"
  },
  "language_info": {
   "codemirror_mode": {
    "name": "ipython",
    "version": 3
   },
   "file_extension": ".py",
   "mimetype": "text/x-python",
   "name": "python",
   "nbconvert_exporter": "python",
   "pygments_lexer": "ipython3",
   "version": "3.7.6"
  }
 },
 "nbformat": 4,
 "nbformat_minor": 4
}
