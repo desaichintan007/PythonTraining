{
 "cells": [
  {
   "cell_type": "markdown",
   "metadata": {},
   "source": [
    "   # File handing in Python"
   ]
  },
  {
   "cell_type": "markdown",
   "metadata": {},
   "source": [
    "### few keywords : \n",
    "- open(), \"w\", \"r\", \"a\",\"read(5)\"\n",
    "- readlines() will read multiple lines\n",
    "- readlines(2) will read the text upto second line"
   ]
  },
  {
   "cell_type": "code",
   "execution_count": 22,
   "metadata": {},
   "outputs": [],
   "source": [
    "f = open(\"a1.txt\",\"w\")          # Creating a text file\n",
    "f.write(\"\\n Machine Learning\")  # Writing to the file\n",
    "f.write(\"\\n Internet\")\n",
    "f.close()"
   ]
  },
  {
   "cell_type": "code",
   "execution_count": 23,
   "metadata": {},
   "outputs": [],
   "source": [
    "f = open(\"a1.txt\",\"w\")          # Creating a text file\n",
    "f.write(\"\\n Five Lines\")  # Writing to the file\n",
    "f.write(\"\\n Happy\")\n",
    "f.close()\n",
    "\n",
    "# this will overwrite the previous writing"
   ]
  },
  {
   "cell_type": "code",
   "execution_count": 24,
   "metadata": {},
   "outputs": [],
   "source": [
    "f = open(\"a1.txt\",\"a\")          # Creating a text file with append mode\n",
    "f.write(\"\\n Machine Learning\")  # Writing to the file\n",
    "f.write(\"\\n Internet\")\n",
    "f.close()\n",
    "\n",
    "# this will apeend content to the text file"
   ]
  },
  {
   "cell_type": "code",
   "execution_count": 20,
   "metadata": {},
   "outputs": [
    {
     "name": "stdout",
     "output_type": "stream",
     "text": [
      "\n",
      " Five Lines\n",
      " Happy\n",
      " Machine Learning\n",
      " Internet\n"
     ]
    }
   ],
   "source": [
    "f = open(\"a1.txt\",\"r\")    # pen file with read mode\n",
    "a = f.read()                  # reading file\n",
    "print(a)\n",
    "f.close()"
   ]
  },
  {
   "cell_type": "code",
   "execution_count": null,
   "metadata": {},
   "outputs": [],
   "source": [
    "f = open(\"a1.txt\",\"r\")    # pen file with read mode\n",
    "a = f.readlines()                  # reading file\n",
    "print(a)\n",
    "f.close()"
   ]
  },
  {
   "cell_type": "code",
   "execution_count": null,
   "metadata": {},
   "outputs": [
    {
     "name": "stdout",
     "output_type": "stream",
     "text": [
      "\n",
      "Welcome to Python 3.7's help utility!\n",
      "\n",
      "If this is your first time using Python, you should definitely check out\n",
      "the tutorial on the Internet at https://docs.python.org/3.7/tutorial/.\n",
      "\n",
      "Enter the name of any module, keyword, or topic to get help on writing\n",
      "Python programs and using Python modules.  To quit this help utility and\n",
      "return to the interpreter, just type \"quit\".\n",
      "\n",
      "To get a list of available modules, keywords, symbols, or topics, type\n",
      "\"modules\", \"keywords\", \"symbols\", or \"topics\".  Each module also comes\n",
      "with a one-line summary of what it does; to list the modules whose name\n",
      "or summary contain a given string such as \"spam\", type \"modules spam\".\n",
      "\n",
      "help> timezone\n",
      "No Python documentation found for 'timezone'.\n",
      "Use help() to get the interactive help utility.\n",
      "Use help(str) for help on the str class.\n",
      "\n",
      "help> open()\n",
      "No Python documentation found for 'open()'.\n",
      "Use help() to get the interactive help utility.\n",
      "Use help(str) for help on the str class.\n",
      "\n"
     ]
    }
   ],
   "source": [
    "help()"
   ]
  },
  {
   "cell_type": "code",
   "execution_count": 2,
   "metadata": {},
   "outputs": [
    {
     "name": "stdout",
     "output_type": "stream",
     "text": [
      "enter name of file you want to opena1.txt\n",
      "['\\n', ' Five Lines\\n', ' Happy\\n', ' Machine Learning\\n', ' Internet']\n"
     ]
    }
   ],
   "source": [
    "a = input(\"enter name of file you want to open\")\n",
    "f = open(a,\"r\")\n",
    "a = f.readlines()\n",
    "print(a)\n",
    "f.close()"
   ]
  },
  {
   "cell_type": "code",
   "execution_count": 9,
   "metadata": {},
   "outputs": [
    {
     "name": "stdout",
     "output_type": "stream",
     "text": [
      "\n",
      " Five Lines\n",
      " Happy\n",
      " Machine Learning\n",
      " Internet\n"
     ]
    }
   ],
   "source": [
    "with open(\"a1.txt\",\"r\") as file:\n",
    "    data = file.read()\n",
    "\n",
    "print(data)"
   ]
  },
  {
   "cell_type": "code",
   "execution_count": 10,
   "metadata": {},
   "outputs": [
    {
     "name": "stdout",
     "output_type": "stream",
     "text": [
      "My name is chintan\n"
     ]
    }
   ],
   "source": [
    "# give complete path to open from any location of the PC\n",
    "with open(\"E:/newfile.txt\",\"r\") as file:\n",
    "    data = file.read()\n",
    "\n",
    "print(data)"
   ]
  },
  {
   "cell_type": "code",
   "execution_count": 15,
   "metadata": {},
   "outputs": [
    {
     "name": "stdout",
     "output_type": "stream",
     "text": [
      "['', '']\n",
      "[' Five Lines', '']\n",
      "[' Happy', '']\n",
      "[' Machine Learning', '']\n",
      "[' Internet']\n"
     ]
    }
   ],
   "source": [
    "with open(\"a1.txt\",\"r\") as f:\n",
    "    data = f.readlines()\n",
    "    for line in data:\n",
    "        print(line.split(\"\\n\"))"
   ]
  },
  {
   "cell_type": "code",
   "execution_count": 18,
   "metadata": {},
   "outputs": [
    {
     "name": "stdout",
     "output_type": "stream",
     "text": [
      "Size of a1.txt file in bytes is : 51\n",
      "Size of a1.txt file in bytes is : 71\n"
     ]
    }
   ],
   "source": [
    "def filesize(file):\n",
    "    import os\n",
    "    statinfo = os.stat(file)\n",
    "    return statinfo.st_size\n",
    "\n",
    "print(\"Size of a1.txt file in bytes is :\",filesize(\"a1.txt\"))\n",
    "print(\"Size of a1.txt file in bytes is :\",filesize(\"bio.txt\"))"
   ]
  },
  {
   "cell_type": "code",
   "execution_count": 25,
   "metadata": {},
   "outputs": [
    {
     "name": "stdout",
     "output_type": "stream",
     "text": [
      "0 \n",
      "\n",
      "1  Five Lines\n",
      "\n",
      "2  Happy\n",
      "\n",
      "3  Machine Learning\n",
      "\n",
      "4  Internet\n"
     ]
    }
   ],
   "source": [
    "from shutil import copyfile     # copy one file into another\n",
    "with open(\"a1.txt\") as file:\n",
    "    for i, l in enumerate(file):\n",
    "        print(i,l)\n",
    "        lines = i+1\n",
    "        "
   ]
  },
  {
   "cell_type": "code",
   "execution_count": 42,
   "metadata": {},
   "outputs": [
    {
     "name": "stdout",
     "output_type": "stream",
     "text": [
      "\n",
      "\n",
      "\n",
      "Five\n",
      "Lines\n",
      "\n",
      "\n",
      "Happy\n",
      "\n",
      "\n",
      "Machine\n",
      "Learning\n",
      "\n",
      "\n",
      "Internet\n",
      "==============================\n",
      "largets word : Learning\n",
      "\n",
      "length of word : 9 Letters\n"
     ]
    }
   ],
   "source": [
    "#Program to find largest word in the file\n",
    "\n",
    "def wordlen():\n",
    "    with open(\"a1.txt\") as file:\n",
    "        final_word = \"\"\n",
    "        length = 0\n",
    "        lines = file.readlines()\n",
    "        for line in lines:\n",
    "            words = line.split(\" \")\n",
    "            for word in words:\n",
    "                print(word)\n",
    "                if len(word)>length:\n",
    "                    length = len(word)\n",
    "                    final_word = word\n",
    "    print(\"=\"*30)           \n",
    "    print(\"largets word :\",final_word)\n",
    "    print(\"length of word :\",length,\"Letters\")\n",
    "                \n",
    "wordlen()"
   ]
  }
 ],
 "metadata": {
  "kernelspec": {
   "display_name": "Python 3",
   "language": "python",
   "name": "python3"
  },
  "language_info": {
   "codemirror_mode": {
    "name": "ipython",
    "version": 3
   },
   "file_extension": ".py",
   "mimetype": "text/x-python",
   "name": "python",
   "nbconvert_exporter": "python",
   "pygments_lexer": "ipython3",
   "version": "3.7.6"
  }
 },
 "nbformat": 4,
 "nbformat_minor": 4
}
